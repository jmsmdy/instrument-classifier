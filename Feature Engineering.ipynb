{
 "cells": [
  {
   "cell_type": "markdown",
   "metadata": {},
   "source": [
    "## Feature Engineering\n",
    "\n",
    "We'll generate average frequency content over the length of the sample, which should be useful in separating instruments by the strength of their harmonics."
   ]
  },
  {
   "cell_type": "markdown",
   "metadata": {},
   "source": [
    "### Create Tables for Harmonic Content of Samples"
   ]
  },
  {
   "cell_type": "code",
   "execution_count": 3,
   "metadata": {},
   "outputs": [],
   "source": [
    "import config\n",
    "import mysql\n",
    "import mysql.connector\n",
    "from mysql.connector import errorcode\n",
    "\n",
    "# DB FUNCTIONS\n",
    "\n",
    "def connect(db_name=None):\n",
    "    if db_name:\n",
    "        cnx = mysql.connector.connect(\n",
    "            host = config.rds_host,\n",
    "            user = config.rds_user,\n",
    "            passwd = config.rds_password,\n",
    "            database = db_name)\n",
    "    else:\n",
    "        cnx = mysql.connector.connect(\n",
    "            host = config.rds_host,\n",
    "            user = config.rds_user,\n",
    "            passwd = config.rds_password)\n",
    "    cursor = cnx.cursor()\n",
    "    return cursor, cnx\n"
   ]
  },
  {
   "cell_type": "code",
   "execution_count": null,
   "metadata": {},
   "outputs": [],
   "source": [
    "create_frequency_table_query = '''CREATE TABLE frequencies (\n",
    "    frequency_id INT NOT NULL,\n",
    "    frequency DOUBLE NOT NULL,\n",
    "    log_2_frequency DOUBLE NOT NULL,\n",
    "    PRIMARY KEY (frequency_id))'''\n",
    "\n",
    "cur, cnx = connect('instruments')\n",
    "cur.execute(create_frequency_table_query)\n",
    "cnx.close()"
   ]
  },
  {
   "cell_type": "code",
   "execution_count": null,
   "metadata": {},
   "outputs": [],
   "source": [
    "import librosa\n",
    "from math import log\n",
    "\n",
    "sr = 44100\n",
    "n_fft = 4096\n",
    "freqs = librosa.core.fft_frequencies(sr=sr, n_fft=n_fft)[1:]\n",
    "\n",
    "values = []\n",
    "\n",
    "for idx, freq in enumerate(freqs):\n",
    "    values.append( (idx, float(freq), log(freq, 2)) )\n",
    "\n",
    "frequency_insert_query = '''INSERT INTO frequencies (frequency_id, frequency, log_2_frequency)\n",
    "                            VALUES (%s, %s, %s)'''\n",
    "    \n",
    "cur, cnx = connect('instruments')\n",
    "cur.executemany(frequency_insert_query, values)\n",
    "cnx.commit()\n",
    "cnx.close()"
   ]
  },
  {
   "cell_type": "code",
   "execution_count": null,
   "metadata": {},
   "outputs": [],
   "source": [
    "create_harmonic_content_table_query = '''CREATE TABLE harmonic_content (\n",
    "                                        sample_id INT NOT NULL,\n",
    "                                        frequency_id INT NOT NULL,\n",
    "                                        amplitude DOUBLE NOT NULL,\n",
    "                                        FOREIGN KEY (sample_id) REFERENCES samples(sample_id),\n",
    "                                        FOREIGN KEY (frequency_id) REFERENCES frequencies(frequency_id))'''\n",
    "\n",
    "cur, cnx = connect('instruments')\n",
    "cur.execute(create_harmonic_content_table_query)\n",
    "cnx.close()"
   ]
  },
  {
   "cell_type": "markdown",
   "metadata": {},
   "source": [
    "### Extract Harmonic Content from Samples to Populate Table"
   ]
  },
  {
   "cell_type": "code",
   "execution_count": 4,
   "metadata": {},
   "outputs": [],
   "source": [
    "import config\n",
    "import logging\n",
    "import boto3\n",
    "from botocore.exceptions import ClientError\n",
    "\n",
    "def download_file(object_name, bucket='instrument-samples-1337', file_name=None):\n",
    "    \"\"\"Download a file from an S3 bucket\n",
    "\n",
    "    :param object_name: S3 object to download\n",
    "    :param bucket: Bucket to download from\n",
    "    :param file_name: file name to download to. If not specified then object_name is used\n",
    "    :return: True if file was uploaded, else False\n",
    "    \"\"\"\n",
    "\n",
    "    # If S3 object_name was not specified, use file_name\n",
    "    if file_name is None:\n",
    "        file_name = object_name\n",
    "\n",
    "    # Upload the file\n",
    "    s3_client = boto3.client('s3',\n",
    "                             aws_access_key_id=config.aws_access_key_id,\n",
    "                             aws_secret_access_key=config.aws_secret_access_key)\n",
    "    try:\n",
    "        response = s3_client.download_file(bucket, object_name, file_name)\n",
    "    except ClientError as e:\n",
    "        logging.error(e)\n",
    "        return False\n",
    "    return True"
   ]
  },
  {
   "cell_type": "code",
   "execution_count": 10,
   "metadata": {},
   "outputs": [],
   "source": [
    "import pandas as pd\n",
    "import librosa.core as lrc\n",
    "import librosa\n",
    "import os\n",
    "import numpy as np\n",
    "import matplotlib.pyplot as plt\n",
    "from math import log\n",
    "from IPython.display import display\n",
    "\n",
    "def perform_stft(sample, sample_rate):\n",
    "        n_fft = 4096\n",
    "        stft = librosa.stft(sample, n_fft=n_fft)[1:] # Short Time Fourier Transform\n",
    "        fig, ax = plt.subplots(figsize=(20,5))\n",
    "        freqs = librosa.core.fft_frequencies(sr=sample_rate, n_fft=n_fft)[1:]\n",
    "        log_2_freqs = list(map(lambda x: log(x, 2), freqs))\n",
    "        ax.plot(log_2_freqs, np.abs(stft).mean(axis=1))\n",
    "        ax.set_xlabel('log_2 of frequency')\n",
    "        ax.set_ylabel('average amplitude')\n",
    "        display(fig)\n",
    "        plt.close(fig)\n",
    "        values = []\n",
    "        print('Inserting harmonic content into database...')\n",
    "        for idx, value in enumerate(np.abs(stft).mean(axis=1)):\n",
    "            values.append( (sample_id, idx, float(value)) )\n",
    "        query = f\"\"\"INSERT INTO harmonic_content (sample_id, frequency_id, amplitude)\n",
    "                    VALUES (%s, %s, %s)\"\"\"\n",
    "        return query, values\n",
    "\n",
    "\n",
    "def process_sample(sample_id):\n",
    "    cur, cnx = connect('instruments')\n",
    "    cur.execute(f\"\"\"SELECT * FROM instruments.samples\n",
    "                    WHERE sample_id = {sample_id}\"\"\")\n",
    "    df = pd.DataFrame(cur.fetchall())\n",
    "    df.columns = [i[0] for i in cur.description]\n",
    "    sample_metadata = df.iloc[0]\n",
    "    print('Attemping to download the following sample:')\n",
    "    print(sample_metadata)\n",
    "    sample_id = int(sample_metadata['sample_id'])\n",
    "    sample_file_ext = sample_metadata['file_extension']\n",
    "    object_name = f'{str(sample_id)}.{sample_file_ext}'\n",
    "    print(object_name)\n",
    "    if download_file(object_name):\n",
    "        print('Analyzing sample...')\n",
    "        y, sr = lrc.load(object_name, sr=None)\n",
    "        query, values = perform_stft(y, sr)\n",
    "        cur.executemany(query, values)\n",
    "        os.remove(object_name)\n",
    "        cnx.commit()\n",
    "        cnx.close()\n",
    "        print('Done!')\n",
    "    else:\n",
    "        print('Download failed.')\n",
    "        cnx.close()"
   ]
  },
  {
   "cell_type": "code",
   "execution_count": null,
   "metadata": {},
   "outputs": [],
   "source": [
    "for i in range(1,2338):\n",
    "    process_sample(i)"
   ]
  },
  {
   "cell_type": "code",
   "execution_count": 9,
   "metadata": {},
   "outputs": [
    {
     "name": "stdout",
     "output_type": "stream",
     "text": [
      "Attemping to download the following sample:\n",
      "sample_id                1847\n",
      "instrument_name     Xylophone\n",
      "note                      Eb5\n",
      "expression         hardrubber\n",
      "source               Iowa2012\n",
      "file_extension            aif\n",
      "Name: 0, dtype: object\n",
      "1847.aif\n",
      "Analyzing sample...\n"
     ]
    },
    {
     "data": {
      "image/png": "[encoded data removed]",
      "text/plain": [
       "<Figure size 1440x360 with 1 Axes>"
      ]
     },
     "metadata": {},
     "output_type": "display_data"
    },
    {
     "name": "stdout",
     "output_type": "stream",
     "text": [
      "Inserting harmonic content into database...\n",
      "Done!\n"
     ]
    }
   ],
   "source": [
    "process_sample(1847)"
   ]
  },
  {
   "cell_type": "code",
   "execution_count": null,
   "metadata": {},
   "outputs": [],
   "source": []
  }
 ],
 "metadata": {
  "kernelspec": {
   "display_name": "Python 3",
   "language": "python",
   "name": "python3"
  },
  "language_info": {
   "codemirror_mode": {
    "name": "ipython",
    "version": 3
   },
   "file_extension": ".py",
   "mimetype": "text/x-python",
   "name": "python",
   "nbconvert_exporter": "python",
   "pygments_lexer": "ipython3",
   "version": "3.7.3"
  }
 },
 "nbformat": 4,
 "nbformat_minor": 2
}
